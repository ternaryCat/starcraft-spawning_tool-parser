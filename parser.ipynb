{
 "cells": [
  {
   "cell_type": "markdown",
   "metadata": {},
   "source": [
    "## Some experements"
   ]
  },
  {
   "cell_type": "code",
   "execution_count": 1,
   "metadata": {
    "collapsed": true
   },
   "outputs": [],
   "source": [
    "import requests\n",
    "import bs4"
   ]
  },
  {
   "cell_type": "code",
   "execution_count": 2,
   "metadata": {
    "collapsed": true
   },
   "outputs": [],
   "source": [
    "url = \"https://lotv.spawningtool.com\"\n",
    "build_pattern = \"/build/\""
   ]
  },
  {
   "cell_type": "code",
   "execution_count": 3,
   "metadata": {
    "collapsed": true
   },
   "outputs": [],
   "source": [
    "pages = requests.get(url + build_pattern)\n",
    "pages_parser = bs4.BeautifulSoup(pages.text, \"lxml\")"
   ]
  },
  {
   "cell_type": "code",
   "execution_count": 4,
   "metadata": {},
   "outputs": [
    {
     "name": "stdout",
     "output_type": "stream",
     "text": [
      "/build/63519/\n",
      "DnS' 3gate blink pressure into double forge\n",
      "PvT\n",
      "Economic\n",
      "---------------\n",
      "/build/63104/\n",
      "Stats' 2 Oracle archon drop into IAC\n",
      "PvZ\n",
      "Economic\n",
      "---------------\n"
     ]
    }
   ],
   "source": [
    "builds_data = pages_parser.find('tbody').find_all('tr')\n",
    "for e in builds_data[:2]:\n",
    "    params = e.find_all('td')\n",
    "    print(params[1].find('a').attrs['href'])\n",
    "    print(params[1].find('a').text)\n",
    "    print(params[2].text)\n",
    "    print(params[3].text)\n",
    "    print(\"-\"*15)"
   ]
  },
  {
   "cell_type": "code",
   "execution_count": 5,
   "metadata": {},
   "outputs": [
    {
     "data": {
      "text/plain": [
       "'/build/63519/'"
      ]
     },
     "execution_count": 5,
     "metadata": {},
     "output_type": "execute_result"
    }
   ],
   "source": [
    "builds_data[0].find('a').attrs['href']"
   ]
  },
  {
   "cell_type": "code",
   "execution_count": 6,
   "metadata": {},
   "outputs": [
    {
     "data": {
      "text/plain": [
       "'https://lotv.spawningtool.com/build/63026/'"
      ]
     },
     "execution_count": 6,
     "metadata": {},
     "output_type": "execute_result"
    }
   ],
   "source": [
    "slug = \"/build/63026/\"\n",
    "url_page = url + slug\n",
    "url_page"
   ]
  },
  {
   "cell_type": "code",
   "execution_count": 7,
   "metadata": {
    "collapsed": true
   },
   "outputs": [],
   "source": [
    "page_html = requests.get(url_page)\n",
    "build_parser = bs4.BeautifulSoup(page_html.text, \"lxml\")\n",
    "build = build_parser.find(\"table\").find_all('tr')"
   ]
  },
  {
   "cell_type": "code",
   "execution_count": 8,
   "metadata": {},
   "outputs": [
    {
     "data": {
      "text/plain": [
       "[<tr><td>  12</td><td>  0:00</td><td>  <nobr><span class=\"Worker\">Drone</span></nobr></td><td>  </td></tr>,\n",
       " <tr><td>  13</td><td>  0:13</td><td>  <nobr><span class=\"Unit\">Overlord</span></nobr></td><td>  </td></tr>,\n",
       " <tr><td>  13</td><td>  0:19</td><td>  <nobr><span class=\"Worker\">Drone</span></nobr></td><td>  </td></tr>,\n",
       " <tr><td>  14</td><td>  0:32</td><td>  <nobr><span class=\"Worker\">Drone x2</span></nobr></td><td>  </td></tr>,\n",
       " <tr><td>  16</td><td>  0:50</td><td>  <nobr><span class=\"Building\">Hatchery</span></nobr></td><td>  </td></tr>]"
      ]
     },
     "execution_count": 8,
     "metadata": {},
     "output_type": "execute_result"
    }
   ],
   "source": [
    "build[:5]"
   ]
  },
  {
   "cell_type": "code",
   "execution_count": 9,
   "metadata": {},
   "outputs": [
    {
     "name": "stdout",
     "output_type": "stream",
     "text": [
      "False\n",
      "True\n"
     ]
    }
   ],
   "source": [
    "print(build[0].find(class_=\"Worker\") == None)\n",
    "print(build[0].find(class_=\"Unit\") == None)"
   ]
  },
  {
   "cell_type": "code",
   "execution_count": 10,
   "metadata": {},
   "outputs": [
    {
     "data": {
      "text/plain": [
       "<span class=\"Worker\">Drone</span>"
      ]
     },
     "execution_count": 10,
     "metadata": {},
     "output_type": "execute_result"
    }
   ],
   "source": [
    "a = build[0]\n",
    "b = a.find_all('td')\n",
    "e = b[2]\n",
    "e.find(class_=\"Worker\")"
   ]
  },
  {
   "cell_type": "code",
   "execution_count": 11,
   "metadata": {},
   "outputs": [
    {
     "data": {
      "text/plain": [
       "(<td>  0:00</td>, '0:00')"
      ]
     },
     "execution_count": 11,
     "metadata": {},
     "output_type": "execute_result"
    }
   ],
   "source": [
    "c = b[1]\n",
    "d = c.text[2:]#delete spaces before timing\n",
    "c, d"
   ]
  },
  {
   "cell_type": "code",
   "execution_count": 12,
   "metadata": {},
   "outputs": [
    {
     "data": {
      "text/plain": [
       "['Worker']"
      ]
     },
     "execution_count": 12,
     "metadata": {},
     "output_type": "execute_result"
    }
   ],
   "source": [
    "f = a.find('span')\n",
    "f.attrs[\"class\"]"
   ]
  },
  {
   "cell_type": "code",
   "execution_count": 13,
   "metadata": {},
   "outputs": [
    {
     "name": "stdout",
     "output_type": "stream",
     "text": [
      "<li>Published on: Dec 20, 2017</li>\n",
      "<li>Modified on: Dec 29, 2017</li>\n",
      "<li>Patch: 4.0.0</li>\n"
     ]
    }
   ],
   "source": [
    "for e in build_parser.find_all('ul')[5].find_all('li')[1:]:\n",
    "    print(e)"
   ]
  },
  {
   "cell_type": "code",
   "execution_count": 14,
   "metadata": {},
   "outputs": [
    {
     "data": {
      "text/plain": [
       "<_sre.SRE_Match object; span=(0, 8), match='Modified'>"
      ]
     },
     "execution_count": 14,
     "metadata": {},
     "output_type": "execute_result"
    }
   ],
   "source": [
    "import re\n",
    "text = build_parser.find_all('ul')[5].find_all('li')[2].text\n",
    "re.search(r'Modified', text)"
   ]
  },
  {
   "cell_type": "code",
   "execution_count": 15,
   "metadata": {},
   "outputs": [
    {
     "data": {
      "text/plain": [
       "'Dec 29, 2017'"
      ]
     },
     "execution_count": 15,
     "metadata": {},
     "output_type": "execute_result"
    }
   ],
   "source": [
    "text[13:]"
   ]
  },
  {
   "cell_type": "code",
   "execution_count": 16,
   "metadata": {},
   "outputs": [
    {
     "data": {
      "text/plain": [
       "<_sre.SRE_Match object; span=(0, 9), match='Published'>"
      ]
     },
     "execution_count": 16,
     "metadata": {},
     "output_type": "execute_result"
    }
   ],
   "source": [
    "text = build_parser.find_all('ul')[5].find_all('li')[1].text\n",
    "re.search(r'Published', text)"
   ]
  },
  {
   "cell_type": "code",
   "execution_count": 17,
   "metadata": {},
   "outputs": [
    {
     "data": {
      "text/plain": [
       "'Dec 20, 2017'"
      ]
     },
     "execution_count": 17,
     "metadata": {},
     "output_type": "execute_result"
    }
   ],
   "source": [
    "text[14:]"
   ]
  },
  {
   "cell_type": "code",
   "execution_count": 18,
   "metadata": {},
   "outputs": [],
   "source": [
    "import pandas as pd\n",
    "df = pd.DataFrame(columns=[\"title\", \"build-type\", \"published-date\", \"modified-date\", \"matchup\", \"build\"])\n",
    "df = df.astype({'title': 'str', 'build-type': 'str', 'matchup': 'str', 'published-date': 'datetime64[ns]', 'modified-date': 'datetime64[ns]'}, copy=False)"
   ]
  },
  {
   "cell_type": "code",
   "execution_count": 19,
   "metadata": {},
   "outputs": [
    {
     "data": {
      "text/html": [
       "<div>\n",
       "<style>\n",
       "    .dataframe thead tr:only-child th {\n",
       "        text-align: right;\n",
       "    }\n",
       "\n",
       "    .dataframe thead th {\n",
       "        text-align: left;\n",
       "    }\n",
       "\n",
       "    .dataframe tbody tr th {\n",
       "        vertical-align: top;\n",
       "    }\n",
       "</style>\n",
       "<table border=\"1\" class=\"dataframe\">\n",
       "  <thead>\n",
       "    <tr style=\"text-align: right;\">\n",
       "      <th></th>\n",
       "      <th>title</th>\n",
       "      <th>build-type</th>\n",
       "      <th>published-date</th>\n",
       "      <th>modified-date</th>\n",
       "      <th>matchup</th>\n",
       "      <th>build</th>\n",
       "    </tr>\n",
       "  </thead>\n",
       "  <tbody>\n",
       "    <tr>\n",
       "      <th>0</th>\n",
       "      <td>title1</td>\n",
       "      <td>macro</td>\n",
       "      <td>NaT</td>\n",
       "      <td>2017-12-23</td>\n",
       "      <td>NaN</td>\n",
       "      <td>NaN</td>\n",
       "    </tr>\n",
       "  </tbody>\n",
       "</table>\n",
       "</div>"
      ],
      "text/plain": [
       "    title build-type published-date modified-date matchup build\n",
       "0  title1      macro            NaT    2017-12-23     NaN   NaN"
      ]
     },
     "execution_count": 19,
     "metadata": {},
     "output_type": "execute_result"
    }
   ],
   "source": [
    "df = df.append({'title': 'title1', 'build-type': 'macro', 'modified-date': pd.to_datetime('Dec 23, 2017')}, ignore_index=True)\n",
    "df"
   ]
  },
  {
   "cell_type": "code",
   "execution_count": 20,
   "metadata": {},
   "outputs": [
    {
     "data": {
      "text/plain": [
       "Timestamp('2017-12-23 00:00:00')"
      ]
     },
     "execution_count": 20,
     "metadata": {},
     "output_type": "execute_result"
    }
   ],
   "source": [
    "pd.to_datetime('Dec 23, 2017')"
   ]
  },
  {
   "cell_type": "code",
   "execution_count": 21,
   "metadata": {},
   "outputs": [
    {
     "data": {
      "text/html": [
       "<div>\n",
       "<style>\n",
       "    .dataframe thead tr:only-child th {\n",
       "        text-align: right;\n",
       "    }\n",
       "\n",
       "    .dataframe thead th {\n",
       "        text-align: left;\n",
       "    }\n",
       "\n",
       "    .dataframe tbody tr th {\n",
       "        vertical-align: top;\n",
       "    }\n",
       "</style>\n",
       "<table border=\"1\" class=\"dataframe\">\n",
       "  <thead>\n",
       "    <tr style=\"text-align: right;\">\n",
       "      <th></th>\n",
       "      <th>title</th>\n",
       "      <th>build-type</th>\n",
       "      <th>published-date</th>\n",
       "      <th>modified-date</th>\n",
       "      <th>matchup</th>\n",
       "      <th>build</th>\n",
       "    </tr>\n",
       "  </thead>\n",
       "  <tbody>\n",
       "    <tr>\n",
       "      <th>0</th>\n",
       "      <td>title1</td>\n",
       "      <td>macro</td>\n",
       "      <td>NaT</td>\n",
       "      <td>2017-12-23</td>\n",
       "      <td>NaN</td>\n",
       "      <td>{1: 'askd', 2: '23'}</td>\n",
       "    </tr>\n",
       "  </tbody>\n",
       "</table>\n",
       "</div>"
      ],
      "text/plain": [
       "    title build-type published-date modified-date matchup  \\\n",
       "0  title1      macro            NaT    2017-12-23     NaN   \n",
       "\n",
       "                  build  \n",
       "0  {1: 'askd', 2: '23'}  "
      ]
     },
     "execution_count": 21,
     "metadata": {},
     "output_type": "execute_result"
    }
   ],
   "source": [
    "df.at[0, \"build\"] =  {1: 'askd', 2: '23'}\n",
    "df"
   ]
  }
 ],
 "metadata": {
  "kernelspec": {
   "display_name": "Python 3",
   "language": "python",
   "name": "python3"
  },
  "language_info": {
   "codemirror_mode": {
    "name": "ipython",
    "version": 3
   },
   "file_extension": ".py",
   "mimetype": "text/x-python",
   "name": "python",
   "nbconvert_exporter": "python",
   "pygments_lexer": "ipython3",
   "version": "3.6.1"
  }
 },
 "nbformat": 4,
 "nbformat_minor": 2
}
