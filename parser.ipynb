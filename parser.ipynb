{
 "cells": [
  {
   "cell_type": "markdown",
   "metadata": {},
   "source": [
    "# Some experements"
   ]
  },
  {
   "cell_type": "code",
   "execution_count": 1,
   "metadata": {
    "collapsed": true
   },
   "outputs": [],
   "source": [
    "import requests\n",
    "import bs4"
   ]
  },
  {
   "cell_type": "code",
   "execution_count": 2,
   "metadata": {
    "collapsed": true
   },
   "outputs": [],
   "source": [
    "url = \"https://lotv.spawningtool.com\"\n",
    "build_pattern = \"/build/\""
   ]
  },
  {
   "cell_type": "code",
   "execution_count": 3,
   "metadata": {
    "collapsed": true
   },
   "outputs": [],
   "source": [
    "pages = requests.get(url + build_pattern)\n",
    "pages_parser = bs4.BeautifulSoup(pages.text, \"lxml\")"
   ]
  },
  {
   "cell_type": "code",
   "execution_count": 4,
   "metadata": {},
   "outputs": [
    {
     "name": "stdout",
     "output_type": "stream",
     "text": [
      "/build/63519/\n",
      "DnS' 3gate blink pressure into double forge\n",
      "PvT\n",
      "Economic\n",
      "---------------\n",
      "/build/63104/\n",
      "Stats' 2 Oracle archon drop into IAC\n",
      "PvZ\n",
      "Economic\n",
      "---------------\n"
     ]
    }
   ],
   "source": [
    "builds_data = pages_parser.find('tbody').find_all('tr')\n",
    "for e in builds_data[:2]:\n",
    "    params = e.find_all('td')\n",
    "    print(params[1].find('a').attrs['href'])\n",
    "    print(params[1].find('a').text)\n",
    "    print(params[2].text)\n",
    "    print(params[3].text)\n",
    "    print(\"-\"*15)"
   ]
  },
  {
   "cell_type": "code",
   "execution_count": 5,
   "metadata": {},
   "outputs": [
    {
     "data": {
      "text/plain": [
       "'/build/63519/'"
      ]
     },
     "execution_count": 5,
     "metadata": {},
     "output_type": "execute_result"
    }
   ],
   "source": [
    "builds_data[0].find('a').attrs['href']"
   ]
  },
  {
   "cell_type": "code",
   "execution_count": 6,
   "metadata": {},
   "outputs": [
    {
     "data": {
      "text/plain": [
       "'https://lotv.spawningtool.com/build/63026/'"
      ]
     },
     "execution_count": 6,
     "metadata": {},
     "output_type": "execute_result"
    }
   ],
   "source": [
    "slug = \"/build/63026/\"\n",
    "url_page = url + slug\n",
    "url_page"
   ]
  },
  {
   "cell_type": "code",
   "execution_count": 7,
   "metadata": {
    "collapsed": true
   },
   "outputs": [],
   "source": [
    "page_html = requests.get(url_page)\n",
    "build_parser = bs4.BeautifulSoup(page_html.text, \"lxml\")\n",
    "build = build_parser.find(\"table\").find_all('tr')"
   ]
  },
  {
   "cell_type": "code",
   "execution_count": 8,
   "metadata": {},
   "outputs": [
    {
     "data": {
      "text/plain": [
       "'birdy´s - ZvP - 3 Base Roach Ravager Ling Allin (ZvP All-In)'"
      ]
     },
     "execution_count": 8,
     "metadata": {},
     "output_type": "execute_result"
    }
   ],
   "source": [
    "build_parser.find(\"h1\").text"
   ]
  },
  {
   "cell_type": "code",
   "execution_count": 9,
   "metadata": {},
   "outputs": [
    {
     "data": {
      "text/plain": [
       "[<tr><td>  12</td><td>  0:00</td><td>  <nobr><span class=\"Worker\">Drone</span></nobr></td><td>  </td></tr>,\n",
       " <tr><td>  13</td><td>  0:13</td><td>  <nobr><span class=\"Unit\">Overlord</span></nobr></td><td>  </td></tr>,\n",
       " <tr><td>  13</td><td>  0:19</td><td>  <nobr><span class=\"Worker\">Drone</span></nobr></td><td>  </td></tr>,\n",
       " <tr><td>  14</td><td>  0:32</td><td>  <nobr><span class=\"Worker\">Drone x2</span></nobr></td><td>  </td></tr>,\n",
       " <tr><td>  16</td><td>  0:50</td><td>  <nobr><span class=\"Building\">Hatchery</span></nobr></td><td>  </td></tr>]"
      ]
     },
     "execution_count": 9,
     "metadata": {},
     "output_type": "execute_result"
    }
   ],
   "source": [
    "build[:5]"
   ]
  },
  {
   "cell_type": "code",
   "execution_count": 10,
   "metadata": {},
   "outputs": [
    {
     "name": "stdout",
     "output_type": "stream",
     "text": [
      "False\n",
      "True\n"
     ]
    }
   ],
   "source": [
    "print(build[0].find(class_=\"Worker\") == None)\n",
    "print(build[0].find(class_=\"Unit\") == None)"
   ]
  },
  {
   "cell_type": "code",
   "execution_count": 11,
   "metadata": {},
   "outputs": [
    {
     "data": {
      "text/plain": [
       "<span class=\"Worker\">Drone</span>"
      ]
     },
     "execution_count": 11,
     "metadata": {},
     "output_type": "execute_result"
    }
   ],
   "source": [
    "a = build[0]\n",
    "b = a.find_all('td')\n",
    "e = b[2]\n",
    "e.find(class_=\"Worker\")"
   ]
  },
  {
   "cell_type": "code",
   "execution_count": 12,
   "metadata": {},
   "outputs": [
    {
     "data": {
      "text/plain": [
       "4"
      ]
     },
     "execution_count": 12,
     "metadata": {},
     "output_type": "execute_result"
    }
   ],
   "source": [
    "len(b)"
   ]
  },
  {
   "cell_type": "code",
   "execution_count": 13,
   "metadata": {},
   "outputs": [
    {
     "data": {
      "text/plain": [
       "(<td>  0:00</td>, '0:00')"
      ]
     },
     "execution_count": 13,
     "metadata": {},
     "output_type": "execute_result"
    }
   ],
   "source": [
    "c = b[1]\n",
    "d = c.text[2:]#delete spaces before timing\n",
    "c, d"
   ]
  },
  {
   "cell_type": "code",
   "execution_count": 14,
   "metadata": {},
   "outputs": [
    {
     "data": {
      "text/plain": [
       "['Worker']"
      ]
     },
     "execution_count": 14,
     "metadata": {},
     "output_type": "execute_result"
    }
   ],
   "source": [
    "f = a.find('span')\n",
    "f.attrs[\"class\"]"
   ]
  },
  {
   "cell_type": "code",
   "execution_count": 15,
   "metadata": {},
   "outputs": [
    {
     "name": "stdout",
     "output_type": "stream",
     "text": [
      "<li>Published on: Dec 20, 2017</li>\n",
      "<li>Modified on: Dec 29, 2017</li>\n",
      "<li>Patch: 4.0.0</li>\n"
     ]
    }
   ],
   "source": [
    "for e in build_parser.find_all('ul')[5].find_all('li')[1:]:\n",
    "    print(e)"
   ]
  },
  {
   "cell_type": "code",
   "execution_count": 16,
   "metadata": {},
   "outputs": [
    {
     "data": {
      "text/plain": [
       "<_sre.SRE_Match object; span=(0, 8), match='Modified'>"
      ]
     },
     "execution_count": 16,
     "metadata": {},
     "output_type": "execute_result"
    }
   ],
   "source": [
    "import re\n",
    "text = build_parser.find_all('ul')[5].find_all('li')[2].text\n",
    "re.search(r'Modified', text)"
   ]
  },
  {
   "cell_type": "code",
   "execution_count": 17,
   "metadata": {},
   "outputs": [
    {
     "data": {
      "text/plain": [
       "'Dec 29, 2017'"
      ]
     },
     "execution_count": 17,
     "metadata": {},
     "output_type": "execute_result"
    }
   ],
   "source": [
    "text[13:]"
   ]
  },
  {
   "cell_type": "code",
   "execution_count": 18,
   "metadata": {},
   "outputs": [
    {
     "data": {
      "text/plain": [
       "<_sre.SRE_Match object; span=(0, 9), match='Published'>"
      ]
     },
     "execution_count": 18,
     "metadata": {},
     "output_type": "execute_result"
    }
   ],
   "source": [
    "text = build_parser.find_all('ul')[5].find_all('li')[1].text\n",
    "re.search(r'Published', text)"
   ]
  },
  {
   "cell_type": "code",
   "execution_count": 19,
   "metadata": {},
   "outputs": [
    {
     "data": {
      "text/plain": [
       "'Dec 20, 2017'"
      ]
     },
     "execution_count": 19,
     "metadata": {},
     "output_type": "execute_result"
    }
   ],
   "source": [
    "text[14:]"
   ]
  },
  {
   "cell_type": "code",
   "execution_count": 20,
   "metadata": {},
   "outputs": [],
   "source": [
    "import pandas as pd\n",
    "df = pd.DataFrame(columns=[\"title\", \"build-type\", \"published-date\", \"modified-date\", \"matchup\", \"build\"])\n",
    "df = df.astype({'title': 'str', 'build-type': 'str', 'matchup': 'str', 'published-date': 'datetime64[ns]', 'modified-date': 'datetime64[ns]'}, copy=False)"
   ]
  },
  {
   "cell_type": "code",
   "execution_count": 21,
   "metadata": {},
   "outputs": [
    {
     "data": {
      "text/html": [
       "<div>\n",
       "<style>\n",
       "    .dataframe thead tr:only-child th {\n",
       "        text-align: right;\n",
       "    }\n",
       "\n",
       "    .dataframe thead th {\n",
       "        text-align: left;\n",
       "    }\n",
       "\n",
       "    .dataframe tbody tr th {\n",
       "        vertical-align: top;\n",
       "    }\n",
       "</style>\n",
       "<table border=\"1\" class=\"dataframe\">\n",
       "  <thead>\n",
       "    <tr style=\"text-align: right;\">\n",
       "      <th></th>\n",
       "      <th>title</th>\n",
       "      <th>build-type</th>\n",
       "      <th>published-date</th>\n",
       "      <th>modified-date</th>\n",
       "      <th>matchup</th>\n",
       "      <th>build</th>\n",
       "    </tr>\n",
       "  </thead>\n",
       "  <tbody>\n",
       "    <tr>\n",
       "      <th>0</th>\n",
       "      <td>title1</td>\n",
       "      <td>macro</td>\n",
       "      <td>NaT</td>\n",
       "      <td>2017-12-23</td>\n",
       "      <td>NaN</td>\n",
       "      <td>NaN</td>\n",
       "    </tr>\n",
       "  </tbody>\n",
       "</table>\n",
       "</div>"
      ],
      "text/plain": [
       "    title build-type published-date modified-date matchup build\n",
       "0  title1      macro            NaT    2017-12-23     NaN   NaN"
      ]
     },
     "execution_count": 21,
     "metadata": {},
     "output_type": "execute_result"
    }
   ],
   "source": [
    "df = df.append({'title': 'title1', 'build-type': 'macro', 'modified-date': pd.to_datetime('Dec 23, 2017')}, ignore_index=True)\n",
    "df"
   ]
  },
  {
   "cell_type": "code",
   "execution_count": 22,
   "metadata": {},
   "outputs": [
    {
     "data": {
      "text/plain": [
       "Timestamp('2017-12-23 00:00:00')"
      ]
     },
     "execution_count": 22,
     "metadata": {},
     "output_type": "execute_result"
    }
   ],
   "source": [
    "pd.to_datetime('Dec 23, 2017')"
   ]
  },
  {
   "cell_type": "code",
   "execution_count": 23,
   "metadata": {},
   "outputs": [
    {
     "data": {
      "text/html": [
       "<div>\n",
       "<style>\n",
       "    .dataframe thead tr:only-child th {\n",
       "        text-align: right;\n",
       "    }\n",
       "\n",
       "    .dataframe thead th {\n",
       "        text-align: left;\n",
       "    }\n",
       "\n",
       "    .dataframe tbody tr th {\n",
       "        vertical-align: top;\n",
       "    }\n",
       "</style>\n",
       "<table border=\"1\" class=\"dataframe\">\n",
       "  <thead>\n",
       "    <tr style=\"text-align: right;\">\n",
       "      <th></th>\n",
       "      <th>title</th>\n",
       "      <th>build-type</th>\n",
       "      <th>published-date</th>\n",
       "      <th>modified-date</th>\n",
       "      <th>matchup</th>\n",
       "      <th>build</th>\n",
       "    </tr>\n",
       "  </thead>\n",
       "  <tbody>\n",
       "    <tr>\n",
       "      <th>0</th>\n",
       "      <td>title1</td>\n",
       "      <td>macro</td>\n",
       "      <td>NaT</td>\n",
       "      <td>2017-12-23</td>\n",
       "      <td>NaN</td>\n",
       "      <td>{1: 'askd', 2: '23'}</td>\n",
       "    </tr>\n",
       "  </tbody>\n",
       "</table>\n",
       "</div>"
      ],
      "text/plain": [
       "    title build-type published-date modified-date matchup  \\\n",
       "0  title1      macro            NaT    2017-12-23     NaN   \n",
       "\n",
       "                  build  \n",
       "0  {1: 'askd', 2: '23'}  "
      ]
     },
     "execution_count": 23,
     "metadata": {},
     "output_type": "execute_result"
    }
   ],
   "source": [
    "df.at[0, \"build\"] =  {1: 'askd', 2: '23'}\n",
    "df"
   ]
  },
  {
   "cell_type": "markdown",
   "metadata": {},
   "source": [
    "# Functions for parse"
   ]
  },
  {
   "cell_type": "markdown",
   "metadata": {},
   "source": [
    "## Parse one page"
   ]
  },
  {
   "cell_type": "code",
   "execution_count": 24,
   "metadata": {
    "collapsed": true
   },
   "outputs": [],
   "source": [
    "import numpy as np"
   ]
  },
  {
   "cell_type": "code",
   "execution_count": 25,
   "metadata": {
    "collapsed": true
   },
   "outputs": [],
   "source": [
    "def parse_date(build_parser):\n",
    "    date = {}\n",
    "    for e in build_parser.find_all('li'):\n",
    "        if (re.search(r'Modified', e.text)):\n",
    "            date[\"modified\"] = e.text[13:]\n",
    "        elif (re.search(r'Published', e.text)):\n",
    "            date[\"published\"] = e.text[14:]\n",
    "    return date"
   ]
  },
  {
   "cell_type": "code",
   "execution_count": 26,
   "metadata": {
    "collapsed": true
   },
   "outputs": [],
   "source": [
    "def parse_limit(row):\n",
    "    data = row[0].text[2:]\n",
    "    if (data == \"\"):\n",
    "        limit = np.NaN #limit can be empty\n",
    "    else:\n",
    "        limit = int(data)\n",
    "    return limit"
   ]
  },
  {
   "cell_type": "code",
   "execution_count": 27,
   "metadata": {
    "collapsed": true
   },
   "outputs": [],
   "source": [
    "def parse_page(slug):\n",
    "    page_url = url + slug\n",
    "    build_data = []\n",
    "    page_html = requests.get(page_url)\n",
    "    page_html.close()\n",
    "    build_parser = bs4.BeautifulSoup(page_html.text, \"lxml\")\n",
    "    build = build_parser.find(\"table\").find_all('tr')\n",
    "\n",
    "    title = build_parser.find(\"h1\").text\n",
    "    date = parse_date(build_parser)\n",
    "    \n",
    "    for build_row in build:\n",
    "        row = build_row.find_all('td')\n",
    "        if (len(row) == 0):\n",
    "            continue\n",
    "            \n",
    "        row_data = {}\n",
    "        row_data[\"limit\"] = parse_limit(row)\n",
    "        row_data[\"timing\"] = row[1].text[2:]\n",
    "        row_data[\"action\"] = row[-2].text[2:]\n",
    "        row_data[\"type\"] = row[2].find('span').attrs[\"class\"][0]\n",
    "        build_data.append(row_data)\n",
    "\n",
    "    return title, date, build_data"
   ]
  },
  {
   "cell_type": "markdown",
   "metadata": {},
   "source": [
    "## Parse a few pages"
   ]
  },
  {
   "cell_type": "code",
   "execution_count": 28,
   "metadata": {
    "collapsed": true
   },
   "outputs": [],
   "source": [
    "import re\n",
    "\n",
    "def parse_pages(builds_number=100):\n",
    "    page_number = 1\n",
    "    builds = []\n",
    "    while(builds_number != 0):\n",
    "        pages = requests.get(url + build_pattern, params={\"p\": page_number})\n",
    "        pages.close()\n",
    "        pages_parser = bs4.BeautifulSoup(pages.text, \"lxml\")\n",
    "        page_number += 1\n",
    "        \n",
    "        builds_data = pages_parser.find('tbody').find_all('tr')\n",
    "        for build_data in builds_data:\n",
    "            params = build_data.find_all('td')\n",
    "            slug = params[1].find('a').attrs['href']\n",
    "            \n",
    "            matchup = params[2].text\n",
    "            build_type = params[3].text\n",
    "            \n",
    "            build = parse_page(slug)\n",
    "            builds.append((slug, matchup, build_type, build))\n",
    "            \n",
    "            builds_number -= 1\n",
    "            if (builds_number == 0):\n",
    "                break\n",
    "                \n",
    "    return builds"
   ]
  },
  {
   "cell_type": "markdown",
   "metadata": {},
   "source": [
    "# Functions for represent"
   ]
  },
  {
   "cell_type": "markdown",
   "metadata": {},
   "source": [
    "## Represent in dataFrame"
   ]
  },
  {
   "cell_type": "code",
   "execution_count": 29,
   "metadata": {
    "collapsed": true
   },
   "outputs": [],
   "source": [
    "import pandas as pd"
   ]
  },
  {
   "cell_type": "code",
   "execution_count": 30,
   "metadata": {
    "collapsed": true
   },
   "outputs": [],
   "source": [
    "def convert_builds_to_dataframe(builds):\n",
    "    df = pd.DataFrame(columns=[\"slug\", \"title\", \"matchup\", \"build-type\", \"published-date\", \"modified-date\", \"build\"])\n",
    "    df = df.astype({'published-date': 'datetime64[ns]', 'modified-date': 'datetime64[ns]'}, copy=False)\n",
    "    \n",
    "    index = 0\n",
    "    for build in builds:\n",
    "        df = df.append({'slug': build[0], 'title': build[3][0], 'matchup': build[1], 'build-type': build[2], 'published-date': pd.to_datetime(build[3][1]['published'])}, ignore_index=True)\n",
    "        if (\"modified\" in build[3][1]):\n",
    "            df.at[index, \"modified-date\"] = pd.to_datetime(build[3][1]['modified'])\n",
    "            \n",
    "        df.at[index, \"build\"] = build[3][2]\n",
    "        index += 1\n",
    "    \n",
    "    return df"
   ]
  },
  {
   "cell_type": "markdown",
   "metadata": {},
   "source": [
    "## Represent in string"
   ]
  },
  {
   "cell_type": "code",
   "execution_count": 31,
   "metadata": {
    "collapsed": true
   },
   "outputs": [],
   "source": [
    "WORKER_TYPE = \"Worker\"\n",
    "BUILDING_TYPE = \"Building\"\n",
    "UNIT_TYPE = \"Unit\"\n",
    "UPGRADE_TYPE = \"Upgrade\""
   ]
  },
  {
   "cell_type": "code",
   "execution_count": 32,
   "metadata": {
    "collapsed": true
   },
   "outputs": [],
   "source": [
    "def convert_builds_to_str(build, show_workers=False, show_buildings=True, show_units=True, show_upgrades=True): #build - series\n",
    "    result = \"\"\n",
    "    result += \"link:\\t\" + url + build[\"slug\"] + \"\\n\"\n",
    "    result += \"title:\\t\" + build[\"title\"] + \"\\n\"\n",
    "    result += \"matchup:\\t\" + build[\"matchup\"] + \"\\n\"\n",
    "    result += \"type:\\t\" + build[\"build-type\"] + \"\\n\"\n",
    "    result += \"published date:\\t\" + str(build[\"published-date\"].date()) + \"\\n\"\n",
    "    if (build[\"modified-date\"] is not pd.NaT):\n",
    "        result += \"modified date:\\t\" + str(build[\"modified-date\"].date()) + \"\\n\"\n",
    "\n",
    "    for row in build[\"build\"]:\n",
    "        if ((show_workers and row[\"type\"]==WORKER_TYPE) or\n",
    "            (show_buildings and row[\"type\"]==BUILDING_TYPE) or\n",
    "            (show_units and row[\"type\"]==UNIT_TYPE) or\n",
    "            (show_upgrades and row[\"type\"]==UPGRADE_TYPE)):\n",
    "            \n",
    "            if (row[\"limit\"] is not np.NaN):\n",
    "                result += str(row[\"limit\"])\n",
    "            result += \"\\t\" + row[\"timing\"] + \"\\t\" + row[\"action\"] + \"\\n\"\n",
    "            \n",
    "    return result"
   ]
  },
  {
   "cell_type": "markdown",
   "metadata": {},
   "source": [
    "## Parse new builds"
   ]
  },
  {
   "cell_type": "code",
   "execution_count": 33,
   "metadata": {
    "collapsed": true
   },
   "outputs": [],
   "source": [
    "def add_new_builds(df):\n",
    "    page_number = 1\n",
    "    builds = []\n",
    "    check_duplicate = False\n",
    "    \n",
    "    while(not check_duplicate):\n",
    "        pages = requests.get(url + build_pattern, params={\"p\": page_number})\n",
    "        pages.close()\n",
    "        pages_parser = bs4.BeautifulSoup(pages.text, \"lxml\")\n",
    "        page_number += 1\n",
    "        \n",
    "        builds_data = pages_parser.find('tbody').find_all('tr')\n",
    "        for build_data in builds_data:\n",
    "            params = build_data.find_all('td')\n",
    "            slug = params[1].find('a').attrs['href']\n",
    "            matchup = params[2].text\n",
    "            build_type = params[3].text\n",
    "            build = parse_page(slug)\n",
    "            \n",
    "            title = build[0]\n",
    "            if ((df[\"title\"] == title).sum() == 0):\n",
    "                builds.append((slug, matchup, build_type, build)) \n",
    "            else:\n",
    "                check_duplicate = True\n",
    "                break\n",
    "                \n",
    "    return builds"
   ]
  },
  {
   "cell_type": "markdown",
   "metadata": {},
   "source": [
    "# Tests"
   ]
  },
  {
   "cell_type": "markdown",
   "metadata": {},
   "source": [
    "## Parse page test"
   ]
  },
  {
   "cell_type": "code",
   "execution_count": 34,
   "metadata": {},
   "outputs": [
    {
     "data": {
      "text/plain": [
       "('ZvT | 12 Pool Ravager (ZvT Cheese)',\n",
       " {'modified': 'Dec 12, 2017', 'published': 'Dec 12, 2017'},\n",
       " [{'action': 'Spawning Pool',\n",
       "   'limit': 12,\n",
       "   'timing': '0:19',\n",
       "   'type': 'Building'},\n",
       "  {'action': 'Extractor', 'limit': 14, 'timing': '0:40', 'type': 'Building'},\n",
       "  {'action': 'Extractor', 'limit': 14, 'timing': '0:45', 'type': 'Building'},\n",
       "  {'action': 'Overlord', 'limit': 14, 'timing': '0:59', 'type': 'Unit'},\n",
       "  {'action': 'Roach Warren',\n",
       "   'limit': 14,\n",
       "   'timing': '1:08',\n",
       "   'type': 'Building'},\n",
       "  {'action': 'Overlord', 'limit': 14, 'timing': '1:30', 'type': 'Unit'},\n",
       "  {'action': 'Roach x2', 'limit': 14, 'timing': '1:51', 'type': 'Unit'},\n",
       "  {'action': 'Roach', 'limit': 14, 'timing': '1:55', 'type': 'Unit'},\n",
       "  {'action': 'Overlord', 'limit': 28, 'timing': '2:38', 'type': 'Unit'}])"
      ]
     },
     "execution_count": 34,
     "metadata": {},
     "output_type": "execute_result"
    }
   ],
   "source": [
    "parse_page(\"/build/62816/\")"
   ]
  },
  {
   "cell_type": "markdown",
   "metadata": {},
   "source": [
    "## Parse few pages test"
   ]
  },
  {
   "cell_type": "code",
   "execution_count": 35,
   "metadata": {},
   "outputs": [],
   "source": [
    "builds = parse_pages(15)"
   ]
  },
  {
   "cell_type": "code",
   "execution_count": 36,
   "metadata": {},
   "outputs": [
    {
     "data": {
      "text/plain": [
       "\"DnS' 3gate blink pressure into double forge (PvT Economic)\""
      ]
     },
     "execution_count": 36,
     "metadata": {},
     "output_type": "execute_result"
    }
   ],
   "source": [
    "builds[0][3][0]"
   ]
  },
  {
   "cell_type": "markdown",
   "metadata": {},
   "source": [
    "## Represent in dataFrame test"
   ]
  },
  {
   "cell_type": "code",
   "execution_count": 37,
   "metadata": {},
   "outputs": [
    {
     "data": {
      "text/html": [
       "<div>\n",
       "<style>\n",
       "    .dataframe thead tr:only-child th {\n",
       "        text-align: right;\n",
       "    }\n",
       "\n",
       "    .dataframe thead th {\n",
       "        text-align: left;\n",
       "    }\n",
       "\n",
       "    .dataframe tbody tr th {\n",
       "        vertical-align: top;\n",
       "    }\n",
       "</style>\n",
       "<table border=\"1\" class=\"dataframe\">\n",
       "  <thead>\n",
       "    <tr style=\"text-align: right;\">\n",
       "      <th></th>\n",
       "      <th>slug</th>\n",
       "      <th>title</th>\n",
       "      <th>matchup</th>\n",
       "      <th>build-type</th>\n",
       "      <th>published-date</th>\n",
       "      <th>modified-date</th>\n",
       "      <th>build</th>\n",
       "    </tr>\n",
       "  </thead>\n",
       "  <tbody>\n",
       "    <tr>\n",
       "      <th>0</th>\n",
       "      <td>/build/63519/</td>\n",
       "      <td>DnS' 3gate blink pressure into double forge (P...</td>\n",
       "      <td>PvT</td>\n",
       "      <td>Economic</td>\n",
       "      <td>2017-12-31</td>\n",
       "      <td>NaT</td>\n",
       "      <td>[{'limit': 12, 'timing': '0:00', 'action': 'Pr...</td>\n",
       "    </tr>\n",
       "    <tr>\n",
       "      <th>1</th>\n",
       "      <td>/build/63104/</td>\n",
       "      <td>Stats' 2 Oracle archon drop into IAC (PvZ Econ...</td>\n",
       "      <td>PvZ</td>\n",
       "      <td>Economic</td>\n",
       "      <td>2017-12-23</td>\n",
       "      <td>NaT</td>\n",
       "      <td>[{'limit': 12, 'timing': '0:00', 'action': 'Pr...</td>\n",
       "    </tr>\n",
       "    <tr>\n",
       "      <th>2</th>\n",
       "      <td>/build/63026/</td>\n",
       "      <td>birdy´s - ZvP - 3 Base Roach Ravager Ling Alli...</td>\n",
       "      <td>ZvP</td>\n",
       "      <td>All-In</td>\n",
       "      <td>2017-12-20</td>\n",
       "      <td>2017-12-29</td>\n",
       "      <td>[{'limit': 12, 'timing': '0:00', 'action': 'Dr...</td>\n",
       "    </tr>\n",
       "    <tr>\n",
       "      <th>3</th>\n",
       "      <td>/build/62798/</td>\n",
       "      <td>Railgan ZvT / ZvP - 2 Base Swarmhost Nydus (Zv...</td>\n",
       "      <td>ZvT</td>\n",
       "      <td>Timing Attack</td>\n",
       "      <td>2017-12-11</td>\n",
       "      <td>2017-12-11</td>\n",
       "      <td>[{'limit': 12, 'timing': '0:01', 'action': 'Dr...</td>\n",
       "    </tr>\n",
       "    <tr>\n",
       "      <th>4</th>\n",
       "      <td>/build/62730/</td>\n",
       "      <td>Innovation's TvP Cyclone Mech (TvP Economic)</td>\n",
       "      <td>TvP</td>\n",
       "      <td>Economic</td>\n",
       "      <td>2017-12-08</td>\n",
       "      <td>2017-12-21</td>\n",
       "      <td>[{'limit': 12, 'timing': '0:00', 'action': 'SC...</td>\n",
       "    </tr>\n",
       "    <tr>\n",
       "      <th>5</th>\n",
       "      <td>/build/63553/</td>\n",
       "      <td>TvZ rush (TvZ Timing Attack)</td>\n",
       "      <td>TvZ</td>\n",
       "      <td>Timing Attack</td>\n",
       "      <td>2017-12-31</td>\n",
       "      <td>2017-12-31</td>\n",
       "      <td>[{'limit': 12, 'timing': '0:01', 'action': 'SC...</td>\n",
       "    </tr>\n",
       "    <tr>\n",
       "      <th>6</th>\n",
       "      <td>/build/63550/</td>\n",
       "      <td>TvT rush (TvT Timing Attack)</td>\n",
       "      <td>TvT</td>\n",
       "      <td>Timing Attack</td>\n",
       "      <td>2017-12-31</td>\n",
       "      <td>2017-12-31</td>\n",
       "      <td>[{'limit': 12, 'timing': '0:01', 'action': 'SC...</td>\n",
       "    </tr>\n",
       "    <tr>\n",
       "      <th>7</th>\n",
       "      <td>/build/63457/</td>\n",
       "      <td>Terran standard build (TvX Economic)</td>\n",
       "      <td>TvX</td>\n",
       "      <td>Economic</td>\n",
       "      <td>2017-12-27</td>\n",
       "      <td>2017-12-27</td>\n",
       "      <td>[{'limit': 12, 'timing': '0:01', 'action': 'SC...</td>\n",
       "    </tr>\n",
       "    <tr>\n",
       "      <th>8</th>\n",
       "      <td>/build/63496/</td>\n",
       "      <td>birdy's 3 base linghydra timing (WorksWithOver...</td>\n",
       "      <td>ZvP</td>\n",
       "      <td>Timing Attack</td>\n",
       "      <td>2017-12-29</td>\n",
       "      <td>2017-12-29</td>\n",
       "      <td>[{'limit': 13, 'timing': '0:12', 'action': 'Ov...</td>\n",
       "    </tr>\n",
       "    <tr>\n",
       "      <th>9</th>\n",
       "      <td>/build/63460/</td>\n",
       "      <td>Zerg standard build (ZvX Economic)</td>\n",
       "      <td>ZvX</td>\n",
       "      <td>Economic</td>\n",
       "      <td>2017-12-27</td>\n",
       "      <td>2017-12-27</td>\n",
       "      <td>[{'limit': 12, 'timing': '0:01', 'action': 'Dr...</td>\n",
       "    </tr>\n",
       "    <tr>\n",
       "      <th>10</th>\n",
       "      <td>/build/63627/</td>\n",
       "      <td>Apertura Estandar 4 Reinas 3 Bases  JimRisingT...</td>\n",
       "      <td>ZvT</td>\n",
       "      <td>Economic</td>\n",
       "      <td>2018-01-01</td>\n",
       "      <td>2018-01-01</td>\n",
       "      <td>[{'limit': 13, 'timing': '', 'action': 'Overlo...</td>\n",
       "    </tr>\n",
       "    <tr>\n",
       "      <th>11</th>\n",
       "      <td>/build/63625/</td>\n",
       "      <td>Apertura Estandar 3 Bases  JimRisingTV (ZvP Ec...</td>\n",
       "      <td>ZvP</td>\n",
       "      <td>Economic</td>\n",
       "      <td>2018-01-01</td>\n",
       "      <td>2018-01-01</td>\n",
       "      <td>[{'limit': 13, 'timing': '', 'action': 'Overlo...</td>\n",
       "    </tr>\n",
       "    <tr>\n",
       "      <th>12</th>\n",
       "      <td>/build/63331/</td>\n",
       "      <td>INnoVation's standard TvP (TvP Economic)</td>\n",
       "      <td>TvP</td>\n",
       "      <td>Economic</td>\n",
       "      <td>2017-12-26</td>\n",
       "      <td>2017-12-30</td>\n",
       "      <td>[{'limit': 14, 'timing': '0:17', 'action': 'Su...</td>\n",
       "    </tr>\n",
       "    <tr>\n",
       "      <th>13</th>\n",
       "      <td>/build/63235/</td>\n",
       "      <td>lllllllllll vs Dark - Standard 1 Gate Expand (...</td>\n",
       "      <td>PvZ</td>\n",
       "      <td>Economic</td>\n",
       "      <td>2017-12-25</td>\n",
       "      <td>2017-12-25</td>\n",
       "      <td>[{'limit': 12, 'timing': '0:00', 'action': 'Pr...</td>\n",
       "    </tr>\n",
       "    <tr>\n",
       "      <th>14</th>\n",
       "      <td>/build/63236/</td>\n",
       "      <td>Classic vs Zest Archon Zealot (PvP Economic)</td>\n",
       "      <td>PvP</td>\n",
       "      <td>Economic</td>\n",
       "      <td>2017-12-25</td>\n",
       "      <td>2017-12-25</td>\n",
       "      <td>[{'limit': 12, 'timing': '0:00', 'action': 'Pr...</td>\n",
       "    </tr>\n",
       "  </tbody>\n",
       "</table>\n",
       "</div>"
      ],
      "text/plain": [
       "             slug                                              title matchup  \\\n",
       "0   /build/63519/  DnS' 3gate blink pressure into double forge (P...     PvT   \n",
       "1   /build/63104/  Stats' 2 Oracle archon drop into IAC (PvZ Econ...     PvZ   \n",
       "2   /build/63026/  birdy´s - ZvP - 3 Base Roach Ravager Ling Alli...     ZvP   \n",
       "3   /build/62798/  Railgan ZvT / ZvP - 2 Base Swarmhost Nydus (Zv...     ZvT   \n",
       "4   /build/62730/       Innovation's TvP Cyclone Mech (TvP Economic)     TvP   \n",
       "5   /build/63553/                       TvZ rush (TvZ Timing Attack)     TvZ   \n",
       "6   /build/63550/                       TvT rush (TvT Timing Attack)     TvT   \n",
       "7   /build/63457/               Terran standard build (TvX Economic)     TvX   \n",
       "8   /build/63496/  birdy's 3 base linghydra timing (WorksWithOver...     ZvP   \n",
       "9   /build/63460/                 Zerg standard build (ZvX Economic)     ZvX   \n",
       "10  /build/63627/  Apertura Estandar 4 Reinas 3 Bases  JimRisingT...     ZvT   \n",
       "11  /build/63625/  Apertura Estandar 3 Bases  JimRisingTV (ZvP Ec...     ZvP   \n",
       "12  /build/63331/           INnoVation's standard TvP (TvP Economic)     TvP   \n",
       "13  /build/63235/  lllllllllll vs Dark - Standard 1 Gate Expand (...     PvZ   \n",
       "14  /build/63236/       Classic vs Zest Archon Zealot (PvP Economic)     PvP   \n",
       "\n",
       "       build-type published-date modified-date  \\\n",
       "0        Economic     2017-12-31           NaT   \n",
       "1        Economic     2017-12-23           NaT   \n",
       "2          All-In     2017-12-20    2017-12-29   \n",
       "3   Timing Attack     2017-12-11    2017-12-11   \n",
       "4        Economic     2017-12-08    2017-12-21   \n",
       "5   Timing Attack     2017-12-31    2017-12-31   \n",
       "6   Timing Attack     2017-12-31    2017-12-31   \n",
       "7        Economic     2017-12-27    2017-12-27   \n",
       "8   Timing Attack     2017-12-29    2017-12-29   \n",
       "9        Economic     2017-12-27    2017-12-27   \n",
       "10       Economic     2018-01-01    2018-01-01   \n",
       "11       Economic     2018-01-01    2018-01-01   \n",
       "12       Economic     2017-12-26    2017-12-30   \n",
       "13       Economic     2017-12-25    2017-12-25   \n",
       "14       Economic     2017-12-25    2017-12-25   \n",
       "\n",
       "                                                build  \n",
       "0   [{'limit': 12, 'timing': '0:00', 'action': 'Pr...  \n",
       "1   [{'limit': 12, 'timing': '0:00', 'action': 'Pr...  \n",
       "2   [{'limit': 12, 'timing': '0:00', 'action': 'Dr...  \n",
       "3   [{'limit': 12, 'timing': '0:01', 'action': 'Dr...  \n",
       "4   [{'limit': 12, 'timing': '0:00', 'action': 'SC...  \n",
       "5   [{'limit': 12, 'timing': '0:01', 'action': 'SC...  \n",
       "6   [{'limit': 12, 'timing': '0:01', 'action': 'SC...  \n",
       "7   [{'limit': 12, 'timing': '0:01', 'action': 'SC...  \n",
       "8   [{'limit': 13, 'timing': '0:12', 'action': 'Ov...  \n",
       "9   [{'limit': 12, 'timing': '0:01', 'action': 'Dr...  \n",
       "10  [{'limit': 13, 'timing': '', 'action': 'Overlo...  \n",
       "11  [{'limit': 13, 'timing': '', 'action': 'Overlo...  \n",
       "12  [{'limit': 14, 'timing': '0:17', 'action': 'Su...  \n",
       "13  [{'limit': 12, 'timing': '0:00', 'action': 'Pr...  \n",
       "14  [{'limit': 12, 'timing': '0:00', 'action': 'Pr...  "
      ]
     },
     "execution_count": 37,
     "metadata": {},
     "output_type": "execute_result"
    }
   ],
   "source": [
    "df = convert_builds_to_dataframe(builds)\n",
    "df"
   ]
  },
  {
   "cell_type": "markdown",
   "metadata": {},
   "source": [
    "## Represent in string test"
   ]
  },
  {
   "cell_type": "code",
   "execution_count": 38,
   "metadata": {},
   "outputs": [
    {
     "data": {
      "text/plain": [
       "'link:\\thttps://lotv.spawningtool.com/build/63026/\\ntitle:\\tbirdy´s - ZvP - 3 Base Roach Ravager Ling Allin (ZvP All-In)\\nmatchup:\\tZvP\\ntype:\\tAll-In\\npublished date:\\t2017-12-20\\nmodified date:\\t2017-12-29\\n13\\t0:13\\tOverlord\\n16\\t0:50\\tHatchery\\n18\\t1:09\\tExtractor\\n17\\t1:15\\tSpawning Pool\\n19\\t1:48\\tHatchery\\n19\\t2:00\\tOverlord\\n19\\t2:05\\tZergling x4\\n21\\t2:18\\tQueen\\n25\\t2:31\\tMetabolic Boost\\n25\\t2:44\\tRoach Warren\\n25\\t3:10\\tOverlord\\n27\\t3:13\\tZergling x6\\n30\\t3:26\\tRoach x5\\n42\\t3:34\\tRoach x2\\n44\\t3:43\\tOverlord\\n44\\t3:45\\tZergling x4\\n46\\t3:54\\tZergling x6\\n53\\t4:13\\tOverlord\\n53\\t4:21\\tRavager\\n59\\t4:52\\tRavager\\n52\\t5:31\\tQueen\\n52\\t5:33\\tRoach\\n54\\t5:45\\tRoach\\n53\\t6:14\\tRoach\\n'"
      ]
     },
     "execution_count": 38,
     "metadata": {},
     "output_type": "execute_result"
    }
   ],
   "source": [
    "convert_builds_to_str(df.loc[2])"
   ]
  },
  {
   "cell_type": "markdown",
   "metadata": {},
   "source": [
    "## Parse new builds test"
   ]
  },
  {
   "cell_type": "code",
   "execution_count": 39,
   "metadata": {},
   "outputs": [
    {
     "data": {
      "text/html": [
       "<div>\n",
       "<style>\n",
       "    .dataframe thead tr:only-child th {\n",
       "        text-align: right;\n",
       "    }\n",
       "\n",
       "    .dataframe thead th {\n",
       "        text-align: left;\n",
       "    }\n",
       "\n",
       "    .dataframe tbody tr th {\n",
       "        vertical-align: top;\n",
       "    }\n",
       "</style>\n",
       "<table border=\"1\" class=\"dataframe\">\n",
       "  <thead>\n",
       "    <tr style=\"text-align: right;\">\n",
       "      <th></th>\n",
       "      <th>slug</th>\n",
       "      <th>title</th>\n",
       "      <th>matchup</th>\n",
       "      <th>build-type</th>\n",
       "      <th>published-date</th>\n",
       "      <th>modified-date</th>\n",
       "      <th>build</th>\n",
       "    </tr>\n",
       "  </thead>\n",
       "  <tbody>\n",
       "    <tr>\n",
       "      <th>1</th>\n",
       "      <td>/build/63104/</td>\n",
       "      <td>Stats' 2 Oracle archon drop into IAC (PvZ Econ...</td>\n",
       "      <td>PvZ</td>\n",
       "      <td>Economic</td>\n",
       "      <td>2017-12-23</td>\n",
       "      <td>NaT</td>\n",
       "      <td>[{'limit': 12, 'timing': '0:00', 'action': 'Pr...</td>\n",
       "    </tr>\n",
       "    <tr>\n",
       "      <th>2</th>\n",
       "      <td>/build/63026/</td>\n",
       "      <td>birdy´s - ZvP - 3 Base Roach Ravager Ling Alli...</td>\n",
       "      <td>ZvP</td>\n",
       "      <td>All-In</td>\n",
       "      <td>2017-12-20</td>\n",
       "      <td>2017-12-29</td>\n",
       "      <td>[{'limit': 12, 'timing': '0:00', 'action': 'Dr...</td>\n",
       "    </tr>\n",
       "    <tr>\n",
       "      <th>3</th>\n",
       "      <td>/build/62798/</td>\n",
       "      <td>Railgan ZvT / ZvP - 2 Base Swarmhost Nydus (Zv...</td>\n",
       "      <td>ZvT</td>\n",
       "      <td>Timing Attack</td>\n",
       "      <td>2017-12-11</td>\n",
       "      <td>2017-12-11</td>\n",
       "      <td>[{'limit': 12, 'timing': '0:01', 'action': 'Dr...</td>\n",
       "    </tr>\n",
       "    <tr>\n",
       "      <th>4</th>\n",
       "      <td>/build/62730/</td>\n",
       "      <td>Innovation's TvP Cyclone Mech (TvP Economic)</td>\n",
       "      <td>TvP</td>\n",
       "      <td>Economic</td>\n",
       "      <td>2017-12-08</td>\n",
       "      <td>2017-12-21</td>\n",
       "      <td>[{'limit': 12, 'timing': '0:00', 'action': 'SC...</td>\n",
       "    </tr>\n",
       "    <tr>\n",
       "      <th>5</th>\n",
       "      <td>/build/63553/</td>\n",
       "      <td>TvZ rush (TvZ Timing Attack)</td>\n",
       "      <td>TvZ</td>\n",
       "      <td>Timing Attack</td>\n",
       "      <td>2017-12-31</td>\n",
       "      <td>2017-12-31</td>\n",
       "      <td>[{'limit': 12, 'timing': '0:01', 'action': 'SC...</td>\n",
       "    </tr>\n",
       "  </tbody>\n",
       "</table>\n",
       "</div>"
      ],
      "text/plain": [
       "            slug                                              title matchup  \\\n",
       "1  /build/63104/  Stats' 2 Oracle archon drop into IAC (PvZ Econ...     PvZ   \n",
       "2  /build/63026/  birdy´s - ZvP - 3 Base Roach Ravager Ling Alli...     ZvP   \n",
       "3  /build/62798/  Railgan ZvT / ZvP - 2 Base Swarmhost Nydus (Zv...     ZvT   \n",
       "4  /build/62730/       Innovation's TvP Cyclone Mech (TvP Economic)     TvP   \n",
       "5  /build/63553/                       TvZ rush (TvZ Timing Attack)     TvZ   \n",
       "\n",
       "      build-type published-date modified-date  \\\n",
       "1       Economic     2017-12-23           NaT   \n",
       "2         All-In     2017-12-20    2017-12-29   \n",
       "3  Timing Attack     2017-12-11    2017-12-11   \n",
       "4       Economic     2017-12-08    2017-12-21   \n",
       "5  Timing Attack     2017-12-31    2017-12-31   \n",
       "\n",
       "                                               build  \n",
       "1  [{'limit': 12, 'timing': '0:00', 'action': 'Pr...  \n",
       "2  [{'limit': 12, 'timing': '0:00', 'action': 'Dr...  \n",
       "3  [{'limit': 12, 'timing': '0:01', 'action': 'Dr...  \n",
       "4  [{'limit': 12, 'timing': '0:00', 'action': 'SC...  \n",
       "5  [{'limit': 12, 'timing': '0:01', 'action': 'SC...  "
      ]
     },
     "execution_count": 39,
     "metadata": {},
     "output_type": "execute_result"
    }
   ],
   "source": [
    "df = df.drop(0)\n",
    "df.head()"
   ]
  },
  {
   "cell_type": "code",
   "execution_count": 40,
   "metadata": {},
   "outputs": [],
   "source": [
    "new_builds = add_new_builds(df)\n",
    "new_df = convert_builds_to_dataframe(new_builds)\n",
    "df = pd.concat([new_df, df])"
   ]
  },
  {
   "cell_type": "code",
   "execution_count": 41,
   "metadata": {},
   "outputs": [
    {
     "data": {
      "text/html": [
       "<div>\n",
       "<style>\n",
       "    .dataframe thead tr:only-child th {\n",
       "        text-align: right;\n",
       "    }\n",
       "\n",
       "    .dataframe thead th {\n",
       "        text-align: left;\n",
       "    }\n",
       "\n",
       "    .dataframe tbody tr th {\n",
       "        vertical-align: top;\n",
       "    }\n",
       "</style>\n",
       "<table border=\"1\" class=\"dataframe\">\n",
       "  <thead>\n",
       "    <tr style=\"text-align: right;\">\n",
       "      <th></th>\n",
       "      <th>slug</th>\n",
       "      <th>title</th>\n",
       "      <th>matchup</th>\n",
       "      <th>build-type</th>\n",
       "      <th>published-date</th>\n",
       "      <th>modified-date</th>\n",
       "      <th>build</th>\n",
       "    </tr>\n",
       "  </thead>\n",
       "  <tbody>\n",
       "    <tr>\n",
       "      <th>0</th>\n",
       "      <td>/build/63519/</td>\n",
       "      <td>DnS' 3gate blink pressure into double forge (P...</td>\n",
       "      <td>PvT</td>\n",
       "      <td>Economic</td>\n",
       "      <td>2017-12-31</td>\n",
       "      <td>NaT</td>\n",
       "      <td>[{'limit': 12, 'timing': '0:00', 'action': 'Pr...</td>\n",
       "    </tr>\n",
       "    <tr>\n",
       "      <th>1</th>\n",
       "      <td>/build/63104/</td>\n",
       "      <td>Stats' 2 Oracle archon drop into IAC (PvZ Econ...</td>\n",
       "      <td>PvZ</td>\n",
       "      <td>Economic</td>\n",
       "      <td>2017-12-23</td>\n",
       "      <td>NaT</td>\n",
       "      <td>[{'limit': 12, 'timing': '0:00', 'action': 'Pr...</td>\n",
       "    </tr>\n",
       "    <tr>\n",
       "      <th>2</th>\n",
       "      <td>/build/63026/</td>\n",
       "      <td>birdy´s - ZvP - 3 Base Roach Ravager Ling Alli...</td>\n",
       "      <td>ZvP</td>\n",
       "      <td>All-In</td>\n",
       "      <td>2017-12-20</td>\n",
       "      <td>2017-12-29</td>\n",
       "      <td>[{'limit': 12, 'timing': '0:00', 'action': 'Dr...</td>\n",
       "    </tr>\n",
       "    <tr>\n",
       "      <th>3</th>\n",
       "      <td>/build/62798/</td>\n",
       "      <td>Railgan ZvT / ZvP - 2 Base Swarmhost Nydus (Zv...</td>\n",
       "      <td>ZvT</td>\n",
       "      <td>Timing Attack</td>\n",
       "      <td>2017-12-11</td>\n",
       "      <td>2017-12-11</td>\n",
       "      <td>[{'limit': 12, 'timing': '0:01', 'action': 'Dr...</td>\n",
       "    </tr>\n",
       "    <tr>\n",
       "      <th>4</th>\n",
       "      <td>/build/62730/</td>\n",
       "      <td>Innovation's TvP Cyclone Mech (TvP Economic)</td>\n",
       "      <td>TvP</td>\n",
       "      <td>Economic</td>\n",
       "      <td>2017-12-08</td>\n",
       "      <td>2017-12-21</td>\n",
       "      <td>[{'limit': 12, 'timing': '0:00', 'action': 'SC...</td>\n",
       "    </tr>\n",
       "  </tbody>\n",
       "</table>\n",
       "</div>"
      ],
      "text/plain": [
       "            slug                                              title matchup  \\\n",
       "0  /build/63519/  DnS' 3gate blink pressure into double forge (P...     PvT   \n",
       "1  /build/63104/  Stats' 2 Oracle archon drop into IAC (PvZ Econ...     PvZ   \n",
       "2  /build/63026/  birdy´s - ZvP - 3 Base Roach Ravager Ling Alli...     ZvP   \n",
       "3  /build/62798/  Railgan ZvT / ZvP - 2 Base Swarmhost Nydus (Zv...     ZvT   \n",
       "4  /build/62730/       Innovation's TvP Cyclone Mech (TvP Economic)     TvP   \n",
       "\n",
       "      build-type published-date modified-date  \\\n",
       "0       Economic     2017-12-31           NaT   \n",
       "1       Economic     2017-12-23           NaT   \n",
       "2         All-In     2017-12-20    2017-12-29   \n",
       "3  Timing Attack     2017-12-11    2017-12-11   \n",
       "4       Economic     2017-12-08    2017-12-21   \n",
       "\n",
       "                                               build  \n",
       "0  [{'limit': 12, 'timing': '0:00', 'action': 'Pr...  \n",
       "1  [{'limit': 12, 'timing': '0:00', 'action': 'Pr...  \n",
       "2  [{'limit': 12, 'timing': '0:00', 'action': 'Dr...  \n",
       "3  [{'limit': 12, 'timing': '0:01', 'action': 'Dr...  \n",
       "4  [{'limit': 12, 'timing': '0:00', 'action': 'SC...  "
      ]
     },
     "execution_count": 41,
     "metadata": {},
     "output_type": "execute_result"
    }
   ],
   "source": [
    "df.head()"
   ]
  }
 ],
 "metadata": {
  "kernelspec": {
   "display_name": "Python 3",
   "language": "python",
   "name": "python3"
  },
  "language_info": {
   "codemirror_mode": {
    "name": "ipython",
    "version": 3
   },
   "file_extension": ".py",
   "mimetype": "text/x-python",
   "name": "python",
   "nbconvert_exporter": "python",
   "pygments_lexer": "ipython3",
   "version": "3.6.1"
  }
 },
 "nbformat": 4,
 "nbformat_minor": 2
}
